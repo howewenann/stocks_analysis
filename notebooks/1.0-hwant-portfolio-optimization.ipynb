{
 "cells": [
  {
   "cell_type": "code",
   "execution_count": 1,
   "metadata": {},
   "outputs": [],
   "source": [
    "import pandas as pd\n",
    "from pypfopt.efficient_frontier import EfficientFrontier\n",
    "from pypfopt import risk_models\n",
    "from pypfopt import expected_returns\n",
    "\n",
    "import numpy as np"
   ]
  },
  {
   "cell_type": "code",
   "execution_count": 2,
   "metadata": {},
   "outputs": [],
   "source": [
    "import os\n",
    "dirname = os.getcwd()\n",
    "parent_dirname = os.path.dirname(dirname)"
   ]
  },
  {
   "cell_type": "code",
   "execution_count": 3,
   "metadata": {},
   "outputs": [],
   "source": [
    "# Read in price data\n",
    "df = pd.read_csv(os.path.join(parent_dirname, 'data/raw/adj_price.csv'),\n",
    "                 parse_dates=True, \n",
    "                 index_col=\"Date\")"
   ]
  },
  {
   "cell_type": "code",
   "execution_count": 4,
   "metadata": {},
   "outputs": [],
   "source": [
    "# Calculate daily returns\n",
    "ret = (df - df.shift()) / df.shift()\n",
    "# ret = np.log(df) - np.log(df.shift())\n",
    "# do not drop NA"
   ]
  },
  {
   "cell_type": "code",
   "execution_count": 5,
   "metadata": {},
   "outputs": [],
   "source": [
    "# remove STI\n",
    "ret = ret.drop('^STI', axis=1)"
   ]
  },
  {
   "cell_type": "code",
   "execution_count": 6,
   "metadata": {},
   "outputs": [],
   "source": [
    "# # Calculate mean and covariance of daily log return\n",
    "# mu = ret.mean()\n",
    "# S = ret.cov()"
   ]
  },
  {
   "cell_type": "code",
   "execution_count": 7,
   "metadata": {},
   "outputs": [],
   "source": [
    "# Calculate mean and covariance of annual log return\n",
    "mu = ret.mean() * ret.shape[0]\n",
    "S = ret.cov() * ret.shape[0]"
   ]
  },
  {
   "cell_type": "code",
   "execution_count": 8,
   "metadata": {},
   "outputs": [],
   "source": [
    "# # Calculate mean and covariance of monthly log return\n",
    "# mu = ret.mean() * 30\n",
    "# S = ret.cov() * 30"
   ]
  },
  {
   "cell_type": "code",
   "execution_count": 9,
   "metadata": {},
   "outputs": [],
   "source": [
    "# Plot the portfolios\n",
    "plot_df = pd.DataFrame({'mu':mu, 'S':np.sqrt(np.diag(S))})"
   ]
  },
  {
   "cell_type": "code",
   "execution_count": 10,
   "metadata": {},
   "outputs": [
    {
     "data": {
      "text/html": [
       "<div>\n",
       "<style scoped>\n",
       "    .dataframe tbody tr th:only-of-type {\n",
       "        vertical-align: middle;\n",
       "    }\n",
       "\n",
       "    .dataframe tbody tr th {\n",
       "        vertical-align: top;\n",
       "    }\n",
       "\n",
       "    .dataframe thead th {\n",
       "        text-align: right;\n",
       "    }\n",
       "</style>\n",
       "<table border=\"1\" class=\"dataframe\">\n",
       "  <thead>\n",
       "    <tr style=\"text-align: right;\">\n",
       "      <th></th>\n",
       "      <th>mu</th>\n",
       "      <th>S</th>\n",
       "    </tr>\n",
       "  </thead>\n",
       "  <tbody>\n",
       "    <tr>\n",
       "      <th>D05.SI</th>\n",
       "      <td>0.139727</td>\n",
       "      <td>0.146704</td>\n",
       "    </tr>\n",
       "    <tr>\n",
       "      <th>G13.SI</th>\n",
       "      <td>-0.012338</td>\n",
       "      <td>0.188645</td>\n",
       "    </tr>\n",
       "    <tr>\n",
       "      <th>S58.SI</th>\n",
       "      <td>0.133497</td>\n",
       "      <td>0.155976</td>\n",
       "    </tr>\n",
       "    <tr>\n",
       "      <th>S63.SI</th>\n",
       "      <td>0.046637</td>\n",
       "      <td>0.167491</td>\n",
       "    </tr>\n",
       "    <tr>\n",
       "      <th>S68.SI</th>\n",
       "      <td>0.364446</td>\n",
       "      <td>0.162432</td>\n",
       "    </tr>\n",
       "  </tbody>\n",
       "</table>\n",
       "</div>"
      ],
      "text/plain": [
       "              mu         S\n",
       "D05.SI  0.139727  0.146704\n",
       "G13.SI -0.012338  0.188645\n",
       "S58.SI  0.133497  0.155976\n",
       "S63.SI  0.046637  0.167491\n",
       "S68.SI  0.364446  0.162432"
      ]
     },
     "execution_count": 10,
     "metadata": {},
     "output_type": "execute_result"
    }
   ],
   "source": [
    "plot_df"
   ]
  },
  {
   "cell_type": "code",
   "execution_count": 11,
   "metadata": {},
   "outputs": [
    {
     "data": {
      "text/plain": [
       "<matplotlib.axes._subplots.AxesSubplot at 0x24b40250f88>"
      ]
     },
     "execution_count": 11,
     "metadata": {},
     "output_type": "execute_result"
    },
    {
     "data": {
      "image/png": "[encoded data removed]",
      "text/plain": [
       "<Figure size 432x288 with 1 Axes>"
      ]
     },
     "metadata": {
      "needs_background": "light"
     },
     "output_type": "display_data"
    }
   ],
   "source": [
    "plot_df.plot.scatter(x='S', y='mu')"
   ]
  },
  {
   "cell_type": "code",
   "execution_count": 12,
   "metadata": {
    "scrolled": true
   },
   "outputs": [
    {
     "data": {
      "text/html": [
       "<div>\n",
       "<style scoped>\n",
       "    .dataframe tbody tr th:only-of-type {\n",
       "        vertical-align: middle;\n",
       "    }\n",
       "\n",
       "    .dataframe tbody tr th {\n",
       "        vertical-align: top;\n",
       "    }\n",
       "\n",
       "    .dataframe thead th {\n",
       "        text-align: right;\n",
       "    }\n",
       "</style>\n",
       "<table border=\"1\" class=\"dataframe\">\n",
       "  <thead>\n",
       "    <tr style=\"text-align: right;\">\n",
       "      <th></th>\n",
       "      <th>D05.SI</th>\n",
       "      <th>G13.SI</th>\n",
       "      <th>S58.SI</th>\n",
       "      <th>S63.SI</th>\n",
       "      <th>S68.SI</th>\n",
       "    </tr>\n",
       "  </thead>\n",
       "  <tbody>\n",
       "    <tr>\n",
       "      <th>D05.SI</th>\n",
       "      <td>1.000000</td>\n",
       "      <td>0.448306</td>\n",
       "      <td>0.380283</td>\n",
       "      <td>0.339773</td>\n",
       "      <td>0.308579</td>\n",
       "    </tr>\n",
       "    <tr>\n",
       "      <th>G13.SI</th>\n",
       "      <td>0.448306</td>\n",
       "      <td>1.000000</td>\n",
       "      <td>0.220907</td>\n",
       "      <td>0.249097</td>\n",
       "      <td>0.135374</td>\n",
       "    </tr>\n",
       "    <tr>\n",
       "      <th>S58.SI</th>\n",
       "      <td>0.380283</td>\n",
       "      <td>0.220907</td>\n",
       "      <td>1.000000</td>\n",
       "      <td>0.310254</td>\n",
       "      <td>0.206210</td>\n",
       "    </tr>\n",
       "    <tr>\n",
       "      <th>S63.SI</th>\n",
       "      <td>0.339773</td>\n",
       "      <td>0.249097</td>\n",
       "      <td>0.310254</td>\n",
       "      <td>1.000000</td>\n",
       "      <td>0.319611</td>\n",
       "    </tr>\n",
       "    <tr>\n",
       "      <th>S68.SI</th>\n",
       "      <td>0.308579</td>\n",
       "      <td>0.135374</td>\n",
       "      <td>0.206210</td>\n",
       "      <td>0.319611</td>\n",
       "      <td>1.000000</td>\n",
       "    </tr>\n",
       "  </tbody>\n",
       "</table>\n",
       "</div>"
      ],
      "text/plain": [
       "          D05.SI    G13.SI    S58.SI    S63.SI    S68.SI\n",
       "D05.SI  1.000000  0.448306  0.380283  0.339773  0.308579\n",
       "G13.SI  0.448306  1.000000  0.220907  0.249097  0.135374\n",
       "S58.SI  0.380283  0.220907  1.000000  0.310254  0.206210\n",
       "S63.SI  0.339773  0.249097  0.310254  1.000000  0.319611\n",
       "S68.SI  0.308579  0.135374  0.206210  0.319611  1.000000"
      ]
     },
     "execution_count": 12,
     "metadata": {},
     "output_type": "execute_result"
    }
   ],
   "source": [
    "# Calculate correlation\n",
    "r = ret.corr()\n",
    "r"
   ]
  },
  {
   "cell_type": "code",
   "execution_count": 13,
   "metadata": {},
   "outputs": [],
   "source": [
    "# Portfolio analysis\n",
    "ef = EfficientFrontier(mu, S, weight_bounds=(0, 1))"
   ]
  },
  {
   "cell_type": "code",
   "execution_count": 14,
   "metadata": {},
   "outputs": [],
   "source": [
    "# optimize wrt max sharpe ratio\n",
    "raw_weights = ef.max_sharpe(risk_free_rate=0.02)\n",
    "cleaned_weights = ef.clean_weights()"
   ]
  },
  {
   "cell_type": "code",
   "execution_count": 15,
   "metadata": {},
   "outputs": [
    {
     "data": {
      "text/plain": [
       "{'D05.SI': 0.03411,\n",
       " 'G13.SI': 0.0,\n",
       " 'S58.SI': 0.11985,\n",
       " 'S63.SI': 0.0,\n",
       " 'S68.SI': 0.84605}"
      ]
     },
     "execution_count": 15,
     "metadata": {},
     "output_type": "execute_result"
    }
   ],
   "source": [
    "# View clean weights\n",
    "cleaned_weights"
   ]
  },
  {
   "cell_type": "code",
   "execution_count": 16,
   "metadata": {},
   "outputs": [
    {
     "name": "stdout",
     "output_type": "stream",
     "text": [
      "Expected annual return: 32.9%\n",
      "Annual volatility: 14.4%\n",
      "Sharpe Ratio: 2.14\n"
     ]
    },
    {
     "data": {
      "text/plain": [
       "(0.32910327466868217, 0.14429160656248216, 2.1422124407134664)"
      ]
     },
     "execution_count": 16,
     "metadata": {},
     "output_type": "execute_result"
    }
   ],
   "source": [
    "ef.portfolio_performance(verbose=True)"
   ]
  },
  {
   "cell_type": "code",
   "execution_count": null,
   "metadata": {},
   "outputs": [],
   "source": []
  },
  {
   "cell_type": "code",
   "execution_count": 19,
   "metadata": {},
   "outputs": [
    {
     "name": "stdout",
     "output_type": "stream",
     "text": [
      "2 out of 5 tickers were removed\n",
      "Discrete allocation: {'D05.SI': 13, 'S58.SI': 237, 'S68.SI': 919}\n",
      "Funds remaining: $3.05\n"
     ]
    }
   ],
   "source": [
    "# how much of each stock to buy?\n",
    "capital = 10000\n",
    "\n",
    "from pypfopt.discrete_allocation import DiscreteAllocation, get_latest_prices\n",
    "\n",
    "latest_prices = get_latest_prices(df)\n",
    "\n",
    "da = DiscreteAllocation(raw_weights, latest_prices, total_portfolio_value=capital)\n",
    "allocation, leftover = da.lp_portfolio()\n",
    "print(\"Discrete allocation:\", allocation)\n",
    "print(\"Funds remaining: ${:.2f}\".format(leftover))"
   ]
  },
  {
   "cell_type": "code",
   "execution_count": null,
   "metadata": {},
   "outputs": [],
   "source": []
  }
 ],
 "metadata": {
  "kernelspec": {
   "display_name": "Python 3",
   "language": "python",
   "name": "python3"
  },
  "language_info": {
   "codemirror_mode": {
    "name": "ipython",
    "version": 3
   },
   "file_extension": ".py",
   "mimetype": "text/x-python",
   "name": "python",
   "nbconvert_exporter": "python",
   "pygments_lexer": "ipython3",
   "version": "3.7.5"
  }
 },
 "nbformat": 4,
 "nbformat_minor": 2
}
