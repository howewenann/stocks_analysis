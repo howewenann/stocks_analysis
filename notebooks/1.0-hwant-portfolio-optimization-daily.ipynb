{
 "cells": [
  {
   "cell_type": "code",
   "execution_count": 1,
   "metadata": {},
   "outputs": [],
   "source": [
    "import pandas as pd\n",
    "from pypfopt.efficient_frontier import EfficientFrontier\n",
    "from pypfopt import risk_models\n",
    "from pypfopt import expected_returns\n",
    "\n",
    "import numpy as np"
   ]
  },
  {
   "cell_type": "code",
   "execution_count": 2,
   "metadata": {},
   "outputs": [],
   "source": [
    "import os\n",
    "dirname = os.getcwd()\n",
    "parent_dirname = os.path.dirname(dirname)"
   ]
  },
  {
   "cell_type": "code",
   "execution_count": 3,
   "metadata": {},
   "outputs": [],
   "source": [
    "# Read in price data\n",
    "df = pd.read_csv(os.path.join(parent_dirname, 'data/raw/adj_price_daily.csv'),\n",
    "                 parse_dates=True, \n",
    "                 index_col=\"Date\")"
   ]
  },
  {
   "cell_type": "code",
   "execution_count": 4,
   "metadata": {},
   "outputs": [],
   "source": [
    "# Calculate daily returns\n",
    "# ret = (df - df.shift()) / df.shift()\n",
    "ret = np.log(df) - np.log(df.shift())\n",
    "# do not drop NA"
   ]
  },
  {
   "cell_type": "code",
   "execution_count": 5,
   "metadata": {},
   "outputs": [],
   "source": [
    "# remove STI\n",
    "ret = ret.drop('^STI', axis=1)"
   ]
  },
  {
   "cell_type": "code",
   "execution_count": 6,
   "metadata": {},
   "outputs": [],
   "source": [
    "# Calculate mean and covariance of daily log return\n",
    "mu = ret.mean()\n",
    "S = ret.cov()"
   ]
  },
  {
   "cell_type": "code",
   "execution_count": 7,
   "metadata": {},
   "outputs": [],
   "source": [
    "# Plot the portfolios\n",
    "plot_df = pd.DataFrame({'mu':mu, 'S':np.sqrt(np.diag(S))})"
   ]
  },
  {
   "cell_type": "code",
   "execution_count": 8,
   "metadata": {},
   "outputs": [
    {
     "data": {
      "text/html": [
       "<div>\n",
       "<style scoped>\n",
       "    .dataframe tbody tr th:only-of-type {\n",
       "        vertical-align: middle;\n",
       "    }\n",
       "\n",
       "    .dataframe tbody tr th {\n",
       "        vertical-align: top;\n",
       "    }\n",
       "\n",
       "    .dataframe thead th {\n",
       "        text-align: right;\n",
       "    }\n",
       "</style>\n",
       "<table border=\"1\" class=\"dataframe\">\n",
       "  <thead>\n",
       "    <tr style=\"text-align: right;\">\n",
       "      <th></th>\n",
       "      <th>mu</th>\n",
       "      <th>S</th>\n",
       "    </tr>\n",
       "  </thead>\n",
       "  <tbody>\n",
       "    <tr>\n",
       "      <th>D05.SI</th>\n",
       "      <td>0.000519</td>\n",
       "      <td>0.009246</td>\n",
       "    </tr>\n",
       "    <tr>\n",
       "      <th>G13.SI</th>\n",
       "      <td>-0.000141</td>\n",
       "      <td>0.011995</td>\n",
       "    </tr>\n",
       "    <tr>\n",
       "      <th>S58.SI</th>\n",
       "      <td>0.000495</td>\n",
       "      <td>0.009870</td>\n",
       "    </tr>\n",
       "    <tr>\n",
       "      <th>S63.SI</th>\n",
       "      <td>0.000092</td>\n",
       "      <td>0.010530</td>\n",
       "    </tr>\n",
       "    <tr>\n",
       "      <th>S68.SI</th>\n",
       "      <td>0.001237</td>\n",
       "      <td>0.010000</td>\n",
       "    </tr>\n",
       "  </tbody>\n",
       "</table>\n",
       "</div>"
      ],
      "text/plain": [
       "              mu         S\n",
       "D05.SI  0.000519  0.009246\n",
       "G13.SI -0.000141  0.011995\n",
       "S58.SI  0.000495  0.009870\n",
       "S63.SI  0.000092  0.010530\n",
       "S68.SI  0.001237  0.010000"
      ]
     },
     "execution_count": 8,
     "metadata": {},
     "output_type": "execute_result"
    }
   ],
   "source": [
    "plot_df"
   ]
  },
  {
   "cell_type": "code",
   "execution_count": 9,
   "metadata": {},
   "outputs": [
    {
     "data": {
      "text/plain": [
       "<matplotlib.axes._subplots.AxesSubplot at 0x1bafd0895c8>"
      ]
     },
     "execution_count": 9,
     "metadata": {},
     "output_type": "execute_result"
    },
    {
     "data": {
      "image/png": "[encoded data removed]",
      "text/plain": [
       "<Figure size 432x288 with 1 Axes>"
      ]
     },
     "metadata": {
      "needs_background": "light"
     },
     "output_type": "display_data"
    }
   ],
   "source": [
    "plot_df.plot.scatter(x='S', y='mu')"
   ]
  },
  {
   "cell_type": "code",
   "execution_count": 10,
   "metadata": {
    "scrolled": true
   },
   "outputs": [
    {
     "data": {
      "text/html": [
       "<div>\n",
       "<style scoped>\n",
       "    .dataframe tbody tr th:only-of-type {\n",
       "        vertical-align: middle;\n",
       "    }\n",
       "\n",
       "    .dataframe tbody tr th {\n",
       "        vertical-align: top;\n",
       "    }\n",
       "\n",
       "    .dataframe thead th {\n",
       "        text-align: right;\n",
       "    }\n",
       "</style>\n",
       "<table border=\"1\" class=\"dataframe\">\n",
       "  <thead>\n",
       "    <tr style=\"text-align: right;\">\n",
       "      <th></th>\n",
       "      <th>D05.SI</th>\n",
       "      <th>G13.SI</th>\n",
       "      <th>S58.SI</th>\n",
       "      <th>S63.SI</th>\n",
       "      <th>S68.SI</th>\n",
       "    </tr>\n",
       "  </thead>\n",
       "  <tbody>\n",
       "    <tr>\n",
       "      <th>D05.SI</th>\n",
       "      <td>1.000000</td>\n",
       "      <td>0.438143</td>\n",
       "      <td>0.382696</td>\n",
       "      <td>0.331101</td>\n",
       "      <td>0.287798</td>\n",
       "    </tr>\n",
       "    <tr>\n",
       "      <th>G13.SI</th>\n",
       "      <td>0.438143</td>\n",
       "      <td>1.000000</td>\n",
       "      <td>0.212956</td>\n",
       "      <td>0.247917</td>\n",
       "      <td>0.111820</td>\n",
       "    </tr>\n",
       "    <tr>\n",
       "      <th>S58.SI</th>\n",
       "      <td>0.382696</td>\n",
       "      <td>0.212956</td>\n",
       "      <td>1.000000</td>\n",
       "      <td>0.296090</td>\n",
       "      <td>0.187563</td>\n",
       "    </tr>\n",
       "    <tr>\n",
       "      <th>S63.SI</th>\n",
       "      <td>0.331101</td>\n",
       "      <td>0.247917</td>\n",
       "      <td>0.296090</td>\n",
       "      <td>1.000000</td>\n",
       "      <td>0.302357</td>\n",
       "    </tr>\n",
       "    <tr>\n",
       "      <th>S68.SI</th>\n",
       "      <td>0.287798</td>\n",
       "      <td>0.111820</td>\n",
       "      <td>0.187563</td>\n",
       "      <td>0.302357</td>\n",
       "      <td>1.000000</td>\n",
       "    </tr>\n",
       "  </tbody>\n",
       "</table>\n",
       "</div>"
      ],
      "text/plain": [
       "          D05.SI    G13.SI    S58.SI    S63.SI    S68.SI\n",
       "D05.SI  1.000000  0.438143  0.382696  0.331101  0.287798\n",
       "G13.SI  0.438143  1.000000  0.212956  0.247917  0.111820\n",
       "S58.SI  0.382696  0.212956  1.000000  0.296090  0.187563\n",
       "S63.SI  0.331101  0.247917  0.296090  1.000000  0.302357\n",
       "S68.SI  0.287798  0.111820  0.187563  0.302357  1.000000"
      ]
     },
     "execution_count": 10,
     "metadata": {},
     "output_type": "execute_result"
    }
   ],
   "source": [
    "# Calculate correlation\n",
    "r = ret.corr()\n",
    "r"
   ]
  },
  {
   "cell_type": "code",
   "execution_count": 11,
   "metadata": {},
   "outputs": [],
   "source": [
    "# Portfolio analysis\n",
    "ef = EfficientFrontier(mu, S, weight_bounds=(0, 1))"
   ]
  },
  {
   "cell_type": "code",
   "execution_count": 12,
   "metadata": {},
   "outputs": [],
   "source": [
    "# optimize wrt max sharpe ratio\n",
    "raw_weights = ef.max_sharpe(risk_free_rate=0.02)\n",
    "cleaned_weights = ef.clean_weights()"
   ]
  },
  {
   "cell_type": "code",
   "execution_count": 13,
   "metadata": {},
   "outputs": [
    {
     "data": {
      "text/plain": [
       "{'D05.SI': 0.0, 'G13.SI': 1.0, 'S58.SI': 0.0, 'S63.SI': 0.0, 'S68.SI': 0.0}"
      ]
     },
     "execution_count": 13,
     "metadata": {},
     "output_type": "execute_result"
    }
   ],
   "source": [
    "# View clean weights\n",
    "cleaned_weights"
   ]
  },
  {
   "cell_type": "code",
   "execution_count": 14,
   "metadata": {},
   "outputs": [
    {
     "name": "stdout",
     "output_type": "stream",
     "text": [
      "Expected annual return: -0.0%\n",
      "Annual volatility: 1.2%\n",
      "Sharpe Ratio: -1.68\n"
     ]
    },
    {
     "data": {
      "text/plain": [
       "(-0.0001413822380348511, 0.011995173977389029, -1.6791238106259627)"
      ]
     },
     "execution_count": 14,
     "metadata": {},
     "output_type": "execute_result"
    }
   ],
   "source": [
    "ef.portfolio_performance(verbose=True)"
   ]
  },
  {
   "cell_type": "code",
   "execution_count": null,
   "metadata": {},
   "outputs": [],
   "source": []
  },
  {
   "cell_type": "code",
   "execution_count": 15,
   "metadata": {},
   "outputs": [
    {
     "name": "stdout",
     "output_type": "stream",
     "text": [
      "4 out of 5 tickers were removed\n",
      "Discrete allocation: {'G13.SI': 10810}\n",
      "Funds remaining: $0.75\n"
     ]
    }
   ],
   "source": [
    "# how much of each stock to buy?\n",
    "capital = 10000\n",
    "\n",
    "from pypfopt.discrete_allocation import DiscreteAllocation, get_latest_prices\n",
    "\n",
    "latest_prices = get_latest_prices(df)\n",
    "\n",
    "da = DiscreteAllocation(raw_weights, latest_prices, total_portfolio_value=capital)\n",
    "allocation, leftover = da.lp_portfolio()\n",
    "print(\"Discrete allocation:\", allocation)\n",
    "print(\"Funds remaining: ${:.2f}\".format(leftover))"
   ]
  },
  {
   "cell_type": "code",
   "execution_count": null,
   "metadata": {},
   "outputs": [],
   "source": []
  }
 ],
 "metadata": {
  "kernelspec": {
   "display_name": "Python 3",
   "language": "python",
   "name": "python3"
  },
  "language_info": {
   "codemirror_mode": {
    "name": "ipython",
    "version": 3
   },
   "file_extension": ".py",
   "mimetype": "text/x-python",
   "name": "python",
   "nbconvert_exporter": "python",
   "pygments_lexer": "ipython3",
   "version": "3.7.5"
  }
 },
 "nbformat": 4,
 "nbformat_minor": 2
}
