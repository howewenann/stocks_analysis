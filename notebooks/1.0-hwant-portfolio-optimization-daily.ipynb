{
 "cells": [
  {
   "cell_type": "code",
   "execution_count": 1,
   "metadata": {},
   "outputs": [],
   "source": [
    "import pandas as pd\n",
    "from pypfopt.efficient_frontier import EfficientFrontier\n",
    "from pypfopt import risk_models\n",
    "from pypfopt import expected_returns\n",
    "\n",
    "import numpy as np"
   ]
  },
  {
   "cell_type": "code",
   "execution_count": 2,
   "metadata": {},
   "outputs": [],
   "source": [
    "import os\n",
    "dirname = os.getcwd()\n",
    "parent_dirname = os.path.dirname(dirname)"
   ]
  },
  {
   "cell_type": "code",
   "execution_count": 3,
   "metadata": {},
   "outputs": [],
   "source": [
    "# Read in price data\n",
    "df = pd.read_csv(os.path.join(parent_dirname, 'data/raw/adj_price_daily.csv'),\n",
    "                 parse_dates=True, \n",
    "                 index_col=\"Date\")"
   ]
  },
  {
   "cell_type": "code",
   "execution_count": 4,
   "metadata": {},
   "outputs": [],
   "source": [
    "# Calculate daily returns\n",
    "# ret = (df - df.shift()) / df.shift()\n",
    "ret = np.log(df) - np.log(df.shift())\n",
    "# do not drop NA"
   ]
  },
  {
   "cell_type": "code",
   "execution_count": 5,
   "metadata": {},
   "outputs": [],
   "source": [
    "# remove STI\n",
    "# ret = ret.drop('^STI', axis=1)"
   ]
  },
  {
   "cell_type": "code",
   "execution_count": 6,
   "metadata": {},
   "outputs": [],
   "source": [
    "# Calculate mean and covariance of daily log return\n",
    "mu = ret.mean() * 30\n",
    "S = ret.cov() * 30"
   ]
  },
  {
   "cell_type": "code",
   "execution_count": 7,
   "metadata": {},
   "outputs": [],
   "source": [
    "# Plot the portfolios\n",
    "plot_df = pd.DataFrame({'mu':mu, 'S':np.sqrt(np.diag(S))})"
   ]
  },
  {
   "cell_type": "code",
   "execution_count": 8,
   "metadata": {},
   "outputs": [
    {
     "data": {
      "text/html": [
       "<div>\n",
       "<style scoped>\n",
       "    .dataframe tbody tr th:only-of-type {\n",
       "        vertical-align: middle;\n",
       "    }\n",
       "\n",
       "    .dataframe tbody tr th {\n",
       "        vertical-align: top;\n",
       "    }\n",
       "\n",
       "    .dataframe thead th {\n",
       "        text-align: right;\n",
       "    }\n",
       "</style>\n",
       "<table border=\"1\" class=\"dataframe\">\n",
       "  <thead>\n",
       "    <tr style=\"text-align: right;\">\n",
       "      <th></th>\n",
       "      <th>mu</th>\n",
       "      <th>S</th>\n",
       "    </tr>\n",
       "  </thead>\n",
       "  <tbody>\n",
       "    <tr>\n",
       "      <th>A17U.SI</th>\n",
       "      <td>0.021111</td>\n",
       "      <td>0.045075</td>\n",
       "    </tr>\n",
       "    <tr>\n",
       "      <th>BN4.SI</th>\n",
       "      <td>0.016636</td>\n",
       "      <td>0.071931</td>\n",
       "    </tr>\n",
       "    <tr>\n",
       "      <th>BS6.SI</th>\n",
       "      <td>-0.015109</td>\n",
       "      <td>0.151242</td>\n",
       "    </tr>\n",
       "    <tr>\n",
       "      <th>C07.SI</th>\n",
       "      <td>-0.014188</td>\n",
       "      <td>0.076756</td>\n",
       "    </tr>\n",
       "    <tr>\n",
       "      <th>C09.SI</th>\n",
       "      <td>0.029220</td>\n",
       "      <td>0.068452</td>\n",
       "    </tr>\n",
       "    <tr>\n",
       "      <th>C31.SI</th>\n",
       "      <td>0.027448</td>\n",
       "      <td>0.053125</td>\n",
       "    </tr>\n",
       "    <tr>\n",
       "      <th>C38U.SI</th>\n",
       "      <td>0.011014</td>\n",
       "      <td>0.058567</td>\n",
       "    </tr>\n",
       "    <tr>\n",
       "      <th>C52.SI</th>\n",
       "      <td>0.015373</td>\n",
       "      <td>0.068272</td>\n",
       "    </tr>\n",
       "    <tr>\n",
       "      <th>C61U.SI</th>\n",
       "      <td>0.020714</td>\n",
       "      <td>0.054643</td>\n",
       "    </tr>\n",
       "    <tr>\n",
       "      <th>C6L.SI</th>\n",
       "      <td>-0.001472</td>\n",
       "      <td>0.043506</td>\n",
       "    </tr>\n",
       "    <tr>\n",
       "      <th>D01.SI</th>\n",
       "      <td>-0.049762</td>\n",
       "      <td>0.089542</td>\n",
       "    </tr>\n",
       "    <tr>\n",
       "      <th>D05.SI</th>\n",
       "      <td>0.014955</td>\n",
       "      <td>0.050678</td>\n",
       "    </tr>\n",
       "    <tr>\n",
       "      <th>E5H.SI</th>\n",
       "      <td>-0.022153</td>\n",
       "      <td>0.151215</td>\n",
       "    </tr>\n",
       "    <tr>\n",
       "      <th>F34.SI</th>\n",
       "      <td>0.038931</td>\n",
       "      <td>0.062785</td>\n",
       "    </tr>\n",
       "    <tr>\n",
       "      <th>G13.SI</th>\n",
       "      <td>-0.005402</td>\n",
       "      <td>0.065862</td>\n",
       "    </tr>\n",
       "    <tr>\n",
       "      <th>H78.SI</th>\n",
       "      <td>-0.019025</td>\n",
       "      <td>0.080607</td>\n",
       "    </tr>\n",
       "    <tr>\n",
       "      <th>J36.SI</th>\n",
       "      <td>-0.021861</td>\n",
       "      <td>0.085848</td>\n",
       "    </tr>\n",
       "    <tr>\n",
       "      <th>J37.SI</th>\n",
       "      <td>-0.023384</td>\n",
       "      <td>0.080010</td>\n",
       "    </tr>\n",
       "    <tr>\n",
       "      <th>N2IU.SI</th>\n",
       "      <td>0.043175</td>\n",
       "      <td>0.065718</td>\n",
       "    </tr>\n",
       "    <tr>\n",
       "      <th>O39.SI</th>\n",
       "      <td>0.000640</td>\n",
       "      <td>0.045582</td>\n",
       "    </tr>\n",
       "    <tr>\n",
       "      <th>S58.SI</th>\n",
       "      <td>0.015941</td>\n",
       "      <td>0.054076</td>\n",
       "    </tr>\n",
       "    <tr>\n",
       "      <th>S63.SI</th>\n",
       "      <td>0.002173</td>\n",
       "      <td>0.057473</td>\n",
       "    </tr>\n",
       "    <tr>\n",
       "      <th>S68.SI</th>\n",
       "      <td>0.037657</td>\n",
       "      <td>0.055466</td>\n",
       "    </tr>\n",
       "    <tr>\n",
       "      <th>T39.SI</th>\n",
       "      <td>-0.017760</td>\n",
       "      <td>0.080536</td>\n",
       "    </tr>\n",
       "    <tr>\n",
       "      <th>U11.SI</th>\n",
       "      <td>0.011725</td>\n",
       "      <td>0.051615</td>\n",
       "    </tr>\n",
       "    <tr>\n",
       "      <th>U14.SI</th>\n",
       "      <td>0.032576</td>\n",
       "      <td>0.062434</td>\n",
       "    </tr>\n",
       "    <tr>\n",
       "      <th>U96.SI</th>\n",
       "      <td>-0.003871</td>\n",
       "      <td>0.090335</td>\n",
       "    </tr>\n",
       "    <tr>\n",
       "      <th>V03.SI</th>\n",
       "      <td>0.016096</td>\n",
       "      <td>0.106585</td>\n",
       "    </tr>\n",
       "    <tr>\n",
       "      <th>Y92.SI</th>\n",
       "      <td>0.129750</td>\n",
       "      <td>0.184579</td>\n",
       "    </tr>\n",
       "    <tr>\n",
       "      <th>Z74.SI</th>\n",
       "      <td>0.018707</td>\n",
       "      <td>0.053035</td>\n",
       "    </tr>\n",
       "  </tbody>\n",
       "</table>\n",
       "</div>"
      ],
      "text/plain": [
       "               mu         S\n",
       "A17U.SI  0.021111  0.045075\n",
       "BN4.SI   0.016636  0.071931\n",
       "BS6.SI  -0.015109  0.151242\n",
       "C07.SI  -0.014188  0.076756\n",
       "C09.SI   0.029220  0.068452\n",
       "C31.SI   0.027448  0.053125\n",
       "C38U.SI  0.011014  0.058567\n",
       "C52.SI   0.015373  0.068272\n",
       "C61U.SI  0.020714  0.054643\n",
       "C6L.SI  -0.001472  0.043506\n",
       "D01.SI  -0.049762  0.089542\n",
       "D05.SI   0.014955  0.050678\n",
       "E5H.SI  -0.022153  0.151215\n",
       "F34.SI   0.038931  0.062785\n",
       "G13.SI  -0.005402  0.065862\n",
       "H78.SI  -0.019025  0.080607\n",
       "J36.SI  -0.021861  0.085848\n",
       "J37.SI  -0.023384  0.080010\n",
       "N2IU.SI  0.043175  0.065718\n",
       "O39.SI   0.000640  0.045582\n",
       "S58.SI   0.015941  0.054076\n",
       "S63.SI   0.002173  0.057473\n",
       "S68.SI   0.037657  0.055466\n",
       "T39.SI  -0.017760  0.080536\n",
       "U11.SI   0.011725  0.051615\n",
       "U14.SI   0.032576  0.062434\n",
       "U96.SI  -0.003871  0.090335\n",
       "V03.SI   0.016096  0.106585\n",
       "Y92.SI   0.129750  0.184579\n",
       "Z74.SI   0.018707  0.053035"
      ]
     },
     "execution_count": 8,
     "metadata": {},
     "output_type": "execute_result"
    }
   ],
   "source": [
    "plot_df"
   ]
  },
  {
   "cell_type": "code",
   "execution_count": 9,
   "metadata": {},
   "outputs": [
    {
     "data": {
      "text/plain": [
       "<matplotlib.axes._subplots.AxesSubplot at 0x17b041faf88>"
      ]
     },
     "execution_count": 9,
     "metadata": {},
     "output_type": "execute_result"
    },
    {
     "data": {
      "image/png": "[encoded data removed]",
      "text/plain": [
       "<Figure size 432x288 with 1 Axes>"
      ]
     },
     "metadata": {
      "needs_background": "light"
     },
     "output_type": "display_data"
    }
   ],
   "source": [
    "plot_df.plot.scatter(x='S', y='mu')"
   ]
  },
  {
   "cell_type": "code",
   "execution_count": 10,
   "metadata": {
    "scrolled": true
   },
   "outputs": [],
   "source": [
    "# Calculate correlation\n",
    "r = ret.corr()\n",
    "# r"
   ]
  },
  {
   "cell_type": "code",
   "execution_count": 11,
   "metadata": {},
   "outputs": [],
   "source": [
    "# Portfolio analysis\n",
    "ef = EfficientFrontier(mu, S, weight_bounds=(0, 1))"
   ]
  },
  {
   "cell_type": "code",
   "execution_count": 12,
   "metadata": {},
   "outputs": [],
   "source": [
    "# optimize wrt max sharpe ratio\n",
    "raw_weights = ef.max_sharpe(risk_free_rate=0.02)\n",
    "cleaned_weights = ef.clean_weights()"
   ]
  },
  {
   "cell_type": "code",
   "execution_count": 13,
   "metadata": {},
   "outputs": [
    {
     "data": {
      "text/plain": [
       "{'A17U.SI': 0.0,\n",
       " 'BN4.SI': 0.0,\n",
       " 'BS6.SI': 0.0,\n",
       " 'C07.SI': 0.0,\n",
       " 'C09.SI': 0.0,\n",
       " 'C31.SI': 0.0,\n",
       " 'C38U.SI': 0.0,\n",
       " 'C52.SI': 0.0,\n",
       " 'C61U.SI': 0.0,\n",
       " 'C6L.SI': 0.0,\n",
       " 'D01.SI': 0.0,\n",
       " 'D05.SI': 0.0,\n",
       " 'E5H.SI': 0.0,\n",
       " 'F34.SI': 0.27719,\n",
       " 'G13.SI': 0.0,\n",
       " 'H78.SI': 0.0,\n",
       " 'J36.SI': 0.0,\n",
       " 'J37.SI': 0.0,\n",
       " 'N2IU.SI': 0.24606,\n",
       " 'O39.SI': 0.0,\n",
       " 'S58.SI': 0.0,\n",
       " 'S63.SI': 0.0,\n",
       " 'S68.SI': 0.29781,\n",
       " 'T39.SI': 0.0,\n",
       " 'U11.SI': 0.0,\n",
       " 'U14.SI': 0.0,\n",
       " 'U96.SI': 0.0,\n",
       " 'V03.SI': 0.0,\n",
       " 'Y92.SI': 0.17895,\n",
       " 'Z74.SI': 0.0}"
      ]
     },
     "execution_count": 13,
     "metadata": {},
     "output_type": "execute_result"
    }
   ],
   "source": [
    "# View clean weights\n",
    "cleaned_weights"
   ]
  },
  {
   "cell_type": "code",
   "execution_count": 14,
   "metadata": {},
   "outputs": [
    {
     "name": "stdout",
     "output_type": "stream",
     "text": [
      "Expected annual return: 5.6%\n",
      "Annual volatility: 4.6%\n",
      "Sharpe Ratio: 0.79\n"
     ]
    },
    {
     "data": {
      "text/plain": [
       "(0.05584787421704591, 0.04551042169202327, 0.7876849496063681)"
      ]
     },
     "execution_count": 14,
     "metadata": {},
     "output_type": "execute_result"
    }
   ],
   "source": [
    "ef.portfolio_performance(verbose=True)"
   ]
  },
  {
   "cell_type": "code",
   "execution_count": null,
   "metadata": {},
   "outputs": [],
   "source": []
  },
  {
   "cell_type": "code",
   "execution_count": 15,
   "metadata": {},
   "outputs": [
    {
     "name": "stdout",
     "output_type": "stream",
     "text": [
      "26 out of 30 tickers were removed\n",
      "Discrete allocation: {'F34.SI': 660, 'N2IU.SI': 1094, 'S68.SI': 329, 'Y92.SI': 1955}\n",
      "Funds remaining: $0.23\n"
     ]
    }
   ],
   "source": [
    "# how much of each stock to buy?\n",
    "capital = 10000\n",
    "\n",
    "from pypfopt.discrete_allocation import DiscreteAllocation, get_latest_prices\n",
    "\n",
    "latest_prices = get_latest_prices(df)\n",
    "\n",
    "da = DiscreteAllocation(raw_weights, latest_prices, total_portfolio_value=capital)\n",
    "allocation, leftover = da.lp_portfolio()\n",
    "print(\"Discrete allocation:\", allocation)\n",
    "print(\"Funds remaining: ${:.2f}\".format(leftover))"
   ]
  },
  {
   "cell_type": "code",
   "execution_count": null,
   "metadata": {},
   "outputs": [],
   "source": []
  }
 ],
 "metadata": {
  "kernelspec": {
   "display_name": "Python 3",
   "language": "python",
   "name": "python3"
  },
  "language_info": {
   "codemirror_mode": {
    "name": "ipython",
    "version": 3
   },
   "file_extension": ".py",
   "mimetype": "text/x-python",
   "name": "python",
   "nbconvert_exporter": "python",
   "pygments_lexer": "ipython3",
   "version": "3.7.5"
  }
 },
 "nbformat": 4,
 "nbformat_minor": 2
}
