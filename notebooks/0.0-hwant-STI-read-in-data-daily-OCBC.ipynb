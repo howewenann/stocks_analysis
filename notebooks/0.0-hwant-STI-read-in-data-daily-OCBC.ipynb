{
 "cells": [
  {
   "cell_type": "code",
   "execution_count": 1,
   "metadata": {},
   "outputs": [],
   "source": [
    "import pandas as pd\n",
    "import yfinance as yf"
   ]
  },
  {
   "cell_type": "code",
   "execution_count": 2,
   "metadata": {},
   "outputs": [],
   "source": [
    "import os\n",
    "dirname = os.getcwd()\n",
    "parent_dirname = os.path.dirname(dirname)"
   ]
  },
  {
   "cell_type": "code",
   "execution_count": 3,
   "metadata": {
    "scrolled": true
   },
   "outputs": [
    {
     "data": {
      "text/plain": [
       "'D:\\\\Users\\\\Nicholas\\\\Projects\\\\repos\\\\stocks_analysis'"
      ]
     },
     "execution_count": 3,
     "metadata": {},
     "output_type": "execute_result"
    }
   ],
   "source": [
    "parent_dirname"
   ]
  },
  {
   "cell_type": "code",
   "execution_count": 4,
   "metadata": {},
   "outputs": [],
   "source": [
    "STI_symbols = pd.Series([\n",
    "    'C31',\n",
    "    'C38U',\n",
    "    'C52',\n",
    "    'D05',\n",
    "    'BN4',\n",
    "    'O32',\n",
    "    'O39',\n",
    "    'U96',\n",
    "    'S51',\n",
    "    'C6L',\n",
    "    'S68',\n",
    "    'T39',\n",
    "    'S63',\n",
    "    'Z74',\n",
    "    'CC3',\n",
    "    'U11',\n",
    "    'F34'\n",
    "])\n",
    "\n",
    "STI_symbols = STI_symbols + '.SI'"
   ]
  },
  {
   "cell_type": "code",
   "execution_count": 5,
   "metadata": {},
   "outputs": [],
   "source": [
    "STI_ETF_symbols = pd.Series([\n",
    "    'G3B',\n",
    "    'MBH',\n",
    "    'CLR'\n",
    "])"
   ]
  },
  {
   "cell_type": "code",
   "execution_count": 6,
   "metadata": {},
   "outputs": [],
   "source": [
    "# Convert to format that is readable for API\n",
    "STI_components = STI_symbols.str.cat(sep=' ')"
   ]
  },
  {
   "cell_type": "code",
   "execution_count": 7,
   "metadata": {},
   "outputs": [
    {
     "name": "stdout",
     "output_type": "stream",
     "text": [
      "[*********************100%***********************]  17 of 17 completed\n"
     ]
    }
   ],
   "source": [
    "# Get numeric data\n",
    "data = yf.download(STI_components, period='2y', interval='1d', group_by='column')"
   ]
  },
  {
   "cell_type": "code",
   "execution_count": 8,
   "metadata": {},
   "outputs": [],
   "source": [
    "# Get additional datas\n",
    "tickers = yf.Tickers(STI_components)"
   ]
  },
  {
   "cell_type": "code",
   "execution_count": 9,
   "metadata": {},
   "outputs": [],
   "source": [
    "# Get adjusted price\n",
    "data_adj = data['Adj Close']"
   ]
  },
  {
   "cell_type": "code",
   "execution_count": 10,
   "metadata": {},
   "outputs": [
    {
     "name": "stdout",
     "output_type": "stream",
     "text": [
      "0\n",
      "1\n",
      "2\n",
      "3\n",
      "4\n",
      "5\n",
      "6\n",
      "7\n",
      "8\n",
      "9\n",
      "10\n",
      "11\n",
      "12\n",
      "13\n",
      "14\n",
      "15\n",
      "16\n"
     ]
    }
   ],
   "source": [
    "names = []\n",
    "symbols = []\n",
    "\n",
    "# Get names for lookup\n",
    "for i in range(data_adj.shape[1]):\n",
    "    print(i)\n",
    "    temp = tickers.tickers[i].info\n",
    "    names.append(temp['shortName'])\n",
    "    symbols.append(temp['symbol'])"
   ]
  },
  {
   "cell_type": "code",
   "execution_count": 11,
   "metadata": {},
   "outputs": [],
   "source": [
    "lookup = pd.DataFrame({\n",
    "    'symbol':symbols,\n",
    "    'name':names\n",
    "})"
   ]
  },
  {
   "cell_type": "code",
   "execution_count": 12,
   "metadata": {},
   "outputs": [],
   "source": [
    "data_adj.to_csv(os.path.join(parent_dirname, 'data/raw/sti_adj_price_daily_OCBC.csv'))\n",
    "lookup.to_csv(os.path.join(parent_dirname, 'data/raw/lookup.csv'))"
   ]
  }
 ],
 "metadata": {
  "kernelspec": {
   "display_name": "Python 3",
   "language": "python",
   "name": "python3"
  },
  "language_info": {
   "codemirror_mode": {
    "name": "ipython",
    "version": 3
   },
   "file_extension": ".py",
   "mimetype": "text/x-python",
   "name": "python",
   "nbconvert_exporter": "python",
   "pygments_lexer": "ipython3",
   "version": "3.7.5"
  }
 },
 "nbformat": 4,
 "nbformat_minor": 2
}
