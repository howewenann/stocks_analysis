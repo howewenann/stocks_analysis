{
 "cells": [
  {
   "cell_type": "code",
   "execution_count": 1,
   "metadata": {},
   "outputs": [],
   "source": [
    "import pandas as pd\n",
    "from pypfopt.efficient_frontier import EfficientFrontier\n",
    "from pypfopt import risk_models\n",
    "from pypfopt import expected_returns\n",
    "\n",
    "import numpy as np"
   ]
  },
  {
   "cell_type": "code",
   "execution_count": 2,
   "metadata": {},
   "outputs": [],
   "source": [
    "import os\n",
    "dirname = os.getcwd()\n",
    "parent_dirname = os.path.dirname(dirname)"
   ]
  },
  {
   "cell_type": "code",
   "execution_count": 3,
   "metadata": {},
   "outputs": [],
   "source": [
    "# Read in price data\n",
    "df = pd.read_csv(os.path.join(parent_dirname, 'data/raw/adj_price_daily.csv'),\n",
    "                 parse_dates=True, \n",
    "                 index_col=\"Date\")"
   ]
  },
  {
   "cell_type": "code",
   "execution_count": 4,
   "metadata": {},
   "outputs": [],
   "source": [
    "# Calculate daily returns\n",
    "# ret = (df - df.shift()) / df.shift()\n",
    "ret = np.log(df) - np.log(df.shift())\n",
    "# do not drop NA"
   ]
  },
  {
   "cell_type": "code",
   "execution_count": 5,
   "metadata": {},
   "outputs": [],
   "source": [
    "# remove STI\n",
    "ret = ret.drop('^STI', axis=1)"
   ]
  },
  {
   "cell_type": "code",
   "execution_count": 6,
   "metadata": {},
   "outputs": [],
   "source": [
    "# Calculate mean and covariance of monthly log return\n",
    "mu = ret.mean() * 90\n",
    "S = ret.cov() * 90"
   ]
  },
  {
   "cell_type": "code",
   "execution_count": 7,
   "metadata": {},
   "outputs": [],
   "source": [
    "# Plot the portfolios\n",
    "plot_df = pd.DataFrame({'mu':mu, 'S':np.sqrt(np.diag(S))})"
   ]
  },
  {
   "cell_type": "code",
   "execution_count": 8,
   "metadata": {},
   "outputs": [
    {
     "data": {
      "text/html": [
       "<div>\n",
       "<style scoped>\n",
       "    .dataframe tbody tr th:only-of-type {\n",
       "        vertical-align: middle;\n",
       "    }\n",
       "\n",
       "    .dataframe tbody tr th {\n",
       "        vertical-align: top;\n",
       "    }\n",
       "\n",
       "    .dataframe thead th {\n",
       "        text-align: right;\n",
       "    }\n",
       "</style>\n",
       "<table border=\"1\" class=\"dataframe\">\n",
       "  <thead>\n",
       "    <tr style=\"text-align: right;\">\n",
       "      <th></th>\n",
       "      <th>mu</th>\n",
       "      <th>S</th>\n",
       "    </tr>\n",
       "  </thead>\n",
       "  <tbody>\n",
       "    <tr>\n",
       "      <th>D05.SI</th>\n",
       "      <td>0.046018</td>\n",
       "      <td>0.087568</td>\n",
       "    </tr>\n",
       "    <tr>\n",
       "      <th>G13.SI</th>\n",
       "      <td>-0.008884</td>\n",
       "      <td>0.114165</td>\n",
       "    </tr>\n",
       "    <tr>\n",
       "      <th>S58.SI</th>\n",
       "      <td>0.044561</td>\n",
       "      <td>0.093634</td>\n",
       "    </tr>\n",
       "    <tr>\n",
       "      <th>S63.SI</th>\n",
       "      <td>0.008263</td>\n",
       "      <td>0.099900</td>\n",
       "    </tr>\n",
       "    <tr>\n",
       "      <th>S68.SI</th>\n",
       "      <td>0.113357</td>\n",
       "      <td>0.095206</td>\n",
       "    </tr>\n",
       "  </tbody>\n",
       "</table>\n",
       "</div>"
      ],
      "text/plain": [
       "              mu         S\n",
       "D05.SI  0.046018  0.087568\n",
       "G13.SI -0.008884  0.114165\n",
       "S58.SI  0.044561  0.093634\n",
       "S63.SI  0.008263  0.099900\n",
       "S68.SI  0.113357  0.095206"
      ]
     },
     "execution_count": 8,
     "metadata": {},
     "output_type": "execute_result"
    }
   ],
   "source": [
    "plot_df"
   ]
  },
  {
   "cell_type": "code",
   "execution_count": 9,
   "metadata": {},
   "outputs": [
    {
     "data": {
      "text/plain": [
       "<matplotlib.axes._subplots.AxesSubplot at 0x1ea2cc5a608>"
      ]
     },
     "execution_count": 9,
     "metadata": {},
     "output_type": "execute_result"
    },
    {
     "data": {
      "image/png": "[encoded data removed]",
      "text/plain": [
       "<Figure size 432x288 with 1 Axes>"
      ]
     },
     "metadata": {
      "needs_background": "light"
     },
     "output_type": "display_data"
    }
   ],
   "source": [
    "plot_df.plot.scatter(x='S', y='mu')"
   ]
  },
  {
   "cell_type": "code",
   "execution_count": 10,
   "metadata": {
    "scrolled": true
   },
   "outputs": [
    {
     "data": {
      "text/html": [
       "<div>\n",
       "<style scoped>\n",
       "    .dataframe tbody tr th:only-of-type {\n",
       "        vertical-align: middle;\n",
       "    }\n",
       "\n",
       "    .dataframe tbody tr th {\n",
       "        vertical-align: top;\n",
       "    }\n",
       "\n",
       "    .dataframe thead th {\n",
       "        text-align: right;\n",
       "    }\n",
       "</style>\n",
       "<table border=\"1\" class=\"dataframe\">\n",
       "  <thead>\n",
       "    <tr style=\"text-align: right;\">\n",
       "      <th></th>\n",
       "      <th>D05.SI</th>\n",
       "      <th>G13.SI</th>\n",
       "      <th>S58.SI</th>\n",
       "      <th>S63.SI</th>\n",
       "      <th>S68.SI</th>\n",
       "    </tr>\n",
       "  </thead>\n",
       "  <tbody>\n",
       "    <tr>\n",
       "      <th>D05.SI</th>\n",
       "      <td>1.000000</td>\n",
       "      <td>0.443734</td>\n",
       "      <td>0.380989</td>\n",
       "      <td>0.332837</td>\n",
       "      <td>0.290440</td>\n",
       "    </tr>\n",
       "    <tr>\n",
       "      <th>G13.SI</th>\n",
       "      <td>0.443734</td>\n",
       "      <td>1.000000</td>\n",
       "      <td>0.222148</td>\n",
       "      <td>0.242927</td>\n",
       "      <td>0.118996</td>\n",
       "    </tr>\n",
       "    <tr>\n",
       "      <th>S58.SI</th>\n",
       "      <td>0.380989</td>\n",
       "      <td>0.222148</td>\n",
       "      <td>1.000000</td>\n",
       "      <td>0.296090</td>\n",
       "      <td>0.193208</td>\n",
       "    </tr>\n",
       "    <tr>\n",
       "      <th>S63.SI</th>\n",
       "      <td>0.332837</td>\n",
       "      <td>0.242927</td>\n",
       "      <td>0.296090</td>\n",
       "      <td>1.000000</td>\n",
       "      <td>0.299719</td>\n",
       "    </tr>\n",
       "    <tr>\n",
       "      <th>S68.SI</th>\n",
       "      <td>0.290440</td>\n",
       "      <td>0.118996</td>\n",
       "      <td>0.193208</td>\n",
       "      <td>0.299719</td>\n",
       "      <td>1.000000</td>\n",
       "    </tr>\n",
       "  </tbody>\n",
       "</table>\n",
       "</div>"
      ],
      "text/plain": [
       "          D05.SI    G13.SI    S58.SI    S63.SI    S68.SI\n",
       "D05.SI  1.000000  0.443734  0.380989  0.332837  0.290440\n",
       "G13.SI  0.443734  1.000000  0.222148  0.242927  0.118996\n",
       "S58.SI  0.380989  0.222148  1.000000  0.296090  0.193208\n",
       "S63.SI  0.332837  0.242927  0.296090  1.000000  0.299719\n",
       "S68.SI  0.290440  0.118996  0.193208  0.299719  1.000000"
      ]
     },
     "execution_count": 10,
     "metadata": {},
     "output_type": "execute_result"
    }
   ],
   "source": [
    "# Calculate correlation\n",
    "r = ret.corr()\n",
    "r"
   ]
  },
  {
   "cell_type": "code",
   "execution_count": 11,
   "metadata": {},
   "outputs": [],
   "source": [
    "# Portfolio analysis\n",
    "ef = EfficientFrontier(mu, S, weight_bounds=(0, 1))"
   ]
  },
  {
   "cell_type": "code",
   "execution_count": 12,
   "metadata": {},
   "outputs": [],
   "source": [
    "# optimize wrt max sharpe ratio\n",
    "raw_weights = ef.max_sharpe(risk_free_rate=0.02)\n",
    "cleaned_weights = ef.clean_weights()"
   ]
  },
  {
   "cell_type": "code",
   "execution_count": 13,
   "metadata": {},
   "outputs": [
    {
     "data": {
      "text/plain": [
       "{'D05.SI': 0.0,\n",
       " 'G13.SI': 0.0,\n",
       " 'S58.SI': 0.07302,\n",
       " 'S63.SI': 0.0,\n",
       " 'S68.SI': 0.92698}"
      ]
     },
     "execution_count": 13,
     "metadata": {},
     "output_type": "execute_result"
    }
   ],
   "source": [
    "# View clean weights\n",
    "cleaned_weights"
   ]
  },
  {
   "cell_type": "code",
   "execution_count": 14,
   "metadata": {},
   "outputs": [
    {
     "name": "stdout",
     "output_type": "stream",
     "text": [
      "Expected annual return: 10.8%\n",
      "Annual volatility: 9.0%\n",
      "Sharpe Ratio: 0.98\n"
     ]
    },
    {
     "data": {
      "text/plain": [
       "(0.10833359063525609, 0.08982617813308756, 0.9833836023211403)"
      ]
     },
     "execution_count": 14,
     "metadata": {},
     "output_type": "execute_result"
    }
   ],
   "source": [
    "ef.portfolio_performance(verbose=True)"
   ]
  },
  {
   "cell_type": "code",
   "execution_count": null,
   "metadata": {},
   "outputs": [],
   "source": []
  },
  {
   "cell_type": "code",
   "execution_count": 15,
   "metadata": {},
   "outputs": [
    {
     "name": "stdout",
     "output_type": "stream",
     "text": [
      "3 out of 5 tickers were removed\n",
      "Discrete allocation: {'S58.SI': 143, 'S68.SI': 1013}\n",
      "Funds remaining: $3.18\n"
     ]
    }
   ],
   "source": [
    "# how much of each stock to buy?\n",
    "capital = 10000\n",
    "\n",
    "from pypfopt.discrete_allocation import DiscreteAllocation, get_latest_prices\n",
    "\n",
    "latest_prices = get_latest_prices(df)\n",
    "\n",
    "da = DiscreteAllocation(raw_weights, latest_prices, total_portfolio_value=capital)\n",
    "allocation, leftover = da.lp_portfolio()\n",
    "print(\"Discrete allocation:\", allocation)\n",
    "print(\"Funds remaining: ${:.2f}\".format(leftover))"
   ]
  },
  {
   "cell_type": "code",
   "execution_count": null,
   "metadata": {},
   "outputs": [],
   "source": []
  }
 ],
 "metadata": {
  "kernelspec": {
   "display_name": "Python 3",
   "language": "python",
   "name": "python3"
  },
  "language_info": {
   "codemirror_mode": {
    "name": "ipython",
    "version": 3
   },
   "file_extension": ".py",
   "mimetype": "text/x-python",
   "name": "python",
   "nbconvert_exporter": "python",
   "pygments_lexer": "ipython3",
   "version": "3.7.5"
  }
 },
 "nbformat": 4,
 "nbformat_minor": 2
}
